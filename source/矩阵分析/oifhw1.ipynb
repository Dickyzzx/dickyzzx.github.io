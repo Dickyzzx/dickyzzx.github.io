{
 "cells": [
  {
   "attachments": {},
   "cell_type": "markdown",
   "metadata": {},
   "source": [
    "Elco balance sheet(December 1) \n",
    "| **Assets**               | **Liabilities**       |\n",
    "|--------------------------|-----------------------|\n",
    "| Cash: $10,000            |                       |\n",
    "| Accounts Receivable: $3,000 |                       |\n",
    "| Inventory Outstanding: $7,000 |                     |\n",
    "| Bank Loan                   |10000               |       \n"
   ]
  },
  {
   "attachments": {},
   "cell_type": "markdown",
   "metadata": {},
   "source": [
    "During December Elco will collect $2,000 in accounts receivable and must payoff\n",
    "$1,000 of the outstanding loan and a monthly rent of $1,000. \n",
    "\n",
    "\n",
    "Elco balance sheet(December 31) \n",
    "| **Assets**               | **Liabilities**       |\n",
    "|--------------------------|-----------------------|\n",
    "| Cash: $10,000            |                       |\n",
    "| Accounts Receivable: $1,000 |                       |\n",
    "| Inventory Outstanding: $7,000 |                     |\n",
    "| Bank Loan                   |9000               |  "
   ]
  },
  {
   "attachments": {},
   "cell_type": "markdown",
   "metadata": {},
   "source": [
    "On January 1, Elco will receive a shipment of raw materials worth $2,000, which\n",
    "must be paid for on February 1.\n",
    "\n",
    "Elco balance sheet(January 1) \n",
    "| **Assets**               | **Liabilities**       |\n",
    "|--------------------------|-----------------------|\n",
    "| Cash: $10,000            |                       |\n",
    "| Accounts Receivable: $1,000 |                       |\n",
    "| Inventory Outstanding: $9,000 |                     |\n",
    "| Bank Loan                   |9000               |  \n",
    "|Account Payable              |2000               |"
   ]
  },
  {
   "attachments": {},
   "cell_type": "markdown",
   "metadata": {},
   "source": [
    "\n",
    "\n",
    "\n",
    "\n",
    "Elco’s management has decided that the cash balance on hand on January 1 must\n",
    "be at least $4,000.\n",
    "\n",
    "Elco’s bank requires the company to have a current ratio of at least 2 on January\n",
    "1.\n",
    "\n",
    "$x_1$ = numebr of product 1 produced. \\\n",
    "$x_2$ = number of product 2 produced. \\\n",
    "C = number of cash on hand \\\n",
    "R = Accounts Receivable \\\n",
    "I = Inventory Outstanding \\\n",
    "B = Bank Loan \\\n",
    "P =Account Payable \\\n",
    "\n",
    "\n",
    "Unit profit of $x_1$ = 80-(50+30) =20 \\\n",
    "Unit profti of $x_2$ = 90-(35+40) =15 \n",
    "\n",
    "max $Z=20x_1 + 15x_2$ \n",
    "\n",
    "$30x_1+40x_2 \\leq 7000$ \\\n",
    "The cash balance on hand on January 1 must be at least $4,000 \\ \n",
    "$50x_1 + 35x_2 \\leq 6000$ \n",
    "$\\frac{C+R+I}{B+P} \\geq 2$ \\ \n",
    "$x_1\\ and\\ x_2 \\geq 0$\n",
    "\n"
   ]
  }
 ],
 "metadata": {
  "language_info": {
   "name": "python"
  },
  "orig_nbformat": 4
 },
 "nbformat": 4,
 "nbformat_minor": 2
}
